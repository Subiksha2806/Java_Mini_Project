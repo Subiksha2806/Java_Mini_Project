{
  "nbformat": 4,
  "nbformat_minor": 0,
  "metadata": {
    "colab": {
      "provenance": []
    },
    "kernelspec": {
      "name": "python3",
      "display_name": "Python 3"
    },
    "language_info": {
      "name": "python"
    }
  },
  "cells": [
    {
      "cell_type": "code",
      "source": [
        "!apt-get install -y openjdk-17-jdk       //importing java packages"
      ],
      "metadata": {
        "colab": {
          "base_uri": "https://localhost:8080/"
        },
        "collapsed": true,
        "id": "vQpZO95E8-88",
        "outputId": "2f464eed-4d4e-4a8f-dd2b-955b79f9f188"
      },
      "execution_count": null,
      "outputs": [
        {
          "output_type": "stream",
          "name": "stdout",
          "text": [
            "Reading package lists... Done\n",
            "Building dependency tree... Done\n",
            "Reading state information... Done\n",
            "The following additional packages will be installed:\n",
            "  fonts-dejavu-core fonts-dejavu-extra libatk-wrapper-java\n",
            "  libatk-wrapper-java-jni libxt-dev libxtst6 libxxf86dga1\n",
            "  openjdk-17-jdk-headless openjdk-17-jre openjdk-17-jre-headless x11-utils\n",
            "Suggested packages:\n",
            "  libxt-doc openjdk-17-demo openjdk-17-source visualvm libnss-mdns\n",
            "  fonts-ipafont-gothic fonts-ipafont-mincho fonts-wqy-microhei\n",
            "  | fonts-wqy-zenhei fonts-indic mesa-utils\n",
            "The following NEW packages will be installed:\n",
            "  fonts-dejavu-core fonts-dejavu-extra libatk-wrapper-java\n",
            "  libatk-wrapper-java-jni libxt-dev libxtst6 libxxf86dga1 openjdk-17-jdk\n",
            "  openjdk-17-jdk-headless openjdk-17-jre openjdk-17-jre-headless x11-utils\n",
            "0 upgraded, 12 newly installed, 0 to remove and 35 not upgraded.\n",
            "Need to get 126 MB of archives.\n",
            "After this operation, 288 MB of additional disk space will be used.\n",
            "Get:1 http://archive.ubuntu.com/ubuntu jammy/main amd64 fonts-dejavu-core all 2.37-2build1 [1,041 kB]\n",
            "Get:2 http://archive.ubuntu.com/ubuntu jammy/main amd64 fonts-dejavu-extra all 2.37-2build1 [2,041 kB]\n",
            "Get:3 http://archive.ubuntu.com/ubuntu jammy/main amd64 libxtst6 amd64 2:1.2.3-1build4 [13.4 kB]\n",
            "Get:4 http://archive.ubuntu.com/ubuntu jammy/main amd64 libxxf86dga1 amd64 2:1.1.5-0ubuntu3 [12.6 kB]\n",
            "Get:5 http://archive.ubuntu.com/ubuntu jammy/main amd64 x11-utils amd64 7.7+5build2 [206 kB]\n",
            "Get:6 http://archive.ubuntu.com/ubuntu jammy/main amd64 libatk-wrapper-java all 0.38.0-5build1 [53.1 kB]\n",
            "Get:7 http://archive.ubuntu.com/ubuntu jammy/main amd64 libatk-wrapper-java-jni amd64 0.38.0-5build1 [49.0 kB]\n",
            "Get:8 http://archive.ubuntu.com/ubuntu jammy/main amd64 libxt-dev amd64 1:1.2.1-1 [396 kB]\n",
            "Get:9 http://archive.ubuntu.com/ubuntu jammy-updates/universe amd64 openjdk-17-jre-headless amd64 17.0.15+6~us1-0ubuntu1~22.04 [48.3 MB]\n",
            "Get:10 http://archive.ubuntu.com/ubuntu jammy-updates/universe amd64 openjdk-17-jre amd64 17.0.15+6~us1-0ubuntu1~22.04 [232 kB]\n",
            "Get:11 http://archive.ubuntu.com/ubuntu jammy-updates/universe amd64 openjdk-17-jdk-headless amd64 17.0.15+6~us1-0ubuntu1~22.04 [71.3 MB]\n",
            "Get:12 http://archive.ubuntu.com/ubuntu jammy-updates/universe amd64 openjdk-17-jdk amd64 17.0.15+6~us1-0ubuntu1~22.04 [2,403 kB]\n",
            "Fetched 126 MB in 10s (12.7 MB/s)\n",
            "Selecting previously unselected package fonts-dejavu-core.\n",
            "(Reading database ... 126284 files and directories currently installed.)\n",
            "Preparing to unpack .../00-fonts-dejavu-core_2.37-2build1_all.deb ...\n",
            "Unpacking fonts-dejavu-core (2.37-2build1) ...\n",
            "Selecting previously unselected package fonts-dejavu-extra.\n",
            "Preparing to unpack .../01-fonts-dejavu-extra_2.37-2build1_all.deb ...\n",
            "Unpacking fonts-dejavu-extra (2.37-2build1) ...\n",
            "Selecting previously unselected package libxtst6:amd64.\n",
            "Preparing to unpack .../02-libxtst6_2%3a1.2.3-1build4_amd64.deb ...\n",
            "Unpacking libxtst6:amd64 (2:1.2.3-1build4) ...\n",
            "Selecting previously unselected package libxxf86dga1:amd64.\n",
            "Preparing to unpack .../03-libxxf86dga1_2%3a1.1.5-0ubuntu3_amd64.deb ...\n",
            "Unpacking libxxf86dga1:amd64 (2:1.1.5-0ubuntu3) ...\n",
            "Selecting previously unselected package x11-utils.\n",
            "Preparing to unpack .../04-x11-utils_7.7+5build2_amd64.deb ...\n",
            "Unpacking x11-utils (7.7+5build2) ...\n",
            "Selecting previously unselected package libatk-wrapper-java.\n",
            "Preparing to unpack .../05-libatk-wrapper-java_0.38.0-5build1_all.deb ...\n",
            "Unpacking libatk-wrapper-java (0.38.0-5build1) ...\n",
            "Selecting previously unselected package libatk-wrapper-java-jni:amd64.\n",
            "Preparing to unpack .../06-libatk-wrapper-java-jni_0.38.0-5build1_amd64.deb ...\n",
            "Unpacking libatk-wrapper-java-jni:amd64 (0.38.0-5build1) ...\n",
            "Selecting previously unselected package libxt-dev:amd64.\n",
            "Preparing to unpack .../07-libxt-dev_1%3a1.2.1-1_amd64.deb ...\n",
            "Unpacking libxt-dev:amd64 (1:1.2.1-1) ...\n",
            "Selecting previously unselected package openjdk-17-jre-headless:amd64.\n",
            "Preparing to unpack .../08-openjdk-17-jre-headless_17.0.15+6~us1-0ubuntu1~22.04_amd64.deb ...\n",
            "Unpacking openjdk-17-jre-headless:amd64 (17.0.15+6~us1-0ubuntu1~22.04) ...\n",
            "Selecting previously unselected package openjdk-17-jre:amd64.\n",
            "Preparing to unpack .../09-openjdk-17-jre_17.0.15+6~us1-0ubuntu1~22.04_amd64.deb ...\n",
            "Unpacking openjdk-17-jre:amd64 (17.0.15+6~us1-0ubuntu1~22.04) ...\n",
            "Selecting previously unselected package openjdk-17-jdk-headless:amd64.\n",
            "Preparing to unpack .../10-openjdk-17-jdk-headless_17.0.15+6~us1-0ubuntu1~22.04_amd64.deb ...\n",
            "Unpacking openjdk-17-jdk-headless:amd64 (17.0.15+6~us1-0ubuntu1~22.04) ...\n",
            "Selecting previously unselected package openjdk-17-jdk:amd64.\n",
            "Preparing to unpack .../11-openjdk-17-jdk_17.0.15+6~us1-0ubuntu1~22.04_amd64.deb ...\n",
            "Unpacking openjdk-17-jdk:amd64 (17.0.15+6~us1-0ubuntu1~22.04) ...\n",
            "Setting up libxtst6:amd64 (2:1.2.3-1build4) ...\n",
            "Setting up libxxf86dga1:amd64 (2:1.1.5-0ubuntu3) ...\n",
            "Setting up libxt-dev:amd64 (1:1.2.1-1) ...\n",
            "Setting up fonts-dejavu-core (2.37-2build1) ...\n",
            "Setting up openjdk-17-jre-headless:amd64 (17.0.15+6~us1-0ubuntu1~22.04) ...\n",
            "update-alternatives: using /usr/lib/jvm/java-17-openjdk-amd64/bin/java to provide /usr/bin/java (java) in auto mode\n",
            "update-alternatives: using /usr/lib/jvm/java-17-openjdk-amd64/bin/jpackage to provide /usr/bin/jpackage (jpackage) in auto mode\n",
            "update-alternatives: using /usr/lib/jvm/java-17-openjdk-amd64/bin/keytool to provide /usr/bin/keytool (keytool) in auto mode\n",
            "update-alternatives: using /usr/lib/jvm/java-17-openjdk-amd64/bin/rmiregistry to provide /usr/bin/rmiregistry (rmiregistry) in auto mode\n",
            "update-alternatives: using /usr/lib/jvm/java-17-openjdk-amd64/lib/jexec to provide /usr/bin/jexec (jexec) in auto mode\n",
            "Setting up fonts-dejavu-extra (2.37-2build1) ...\n",
            "Setting up x11-utils (7.7+5build2) ...\n",
            "Setting up libatk-wrapper-java (0.38.0-5build1) ...\n",
            "Setting up openjdk-17-jre:amd64 (17.0.15+6~us1-0ubuntu1~22.04) ...\n",
            "Setting up libatk-wrapper-java-jni:amd64 (0.38.0-5build1) ...\n",
            "Setting up openjdk-17-jdk-headless:amd64 (17.0.15+6~us1-0ubuntu1~22.04) ...\n",
            "update-alternatives: using /usr/lib/jvm/java-17-openjdk-amd64/bin/jar to provide /usr/bin/jar (jar) in auto mode\n",
            "update-alternatives: using /usr/lib/jvm/java-17-openjdk-amd64/bin/jarsigner to provide /usr/bin/jarsigner (jarsigner) in auto mode\n",
            "update-alternatives: using /usr/lib/jvm/java-17-openjdk-amd64/bin/javac to provide /usr/bin/javac (javac) in auto mode\n",
            "update-alternatives: using /usr/lib/jvm/java-17-openjdk-amd64/bin/javadoc to provide /usr/bin/javadoc (javadoc) in auto mode\n",
            "update-alternatives: using /usr/lib/jvm/java-17-openjdk-amd64/bin/javap to provide /usr/bin/javap (javap) in auto mode\n",
            "update-alternatives: using /usr/lib/jvm/java-17-openjdk-amd64/bin/jcmd to provide /usr/bin/jcmd (jcmd) in auto mode\n",
            "update-alternatives: using /usr/lib/jvm/java-17-openjdk-amd64/bin/jdb to provide /usr/bin/jdb (jdb) in auto mode\n",
            "update-alternatives: using /usr/lib/jvm/java-17-openjdk-amd64/bin/jdeprscan to provide /usr/bin/jdeprscan (jdeprscan) in auto mode\n",
            "update-alternatives: using /usr/lib/jvm/java-17-openjdk-amd64/bin/jdeps to provide /usr/bin/jdeps (jdeps) in auto mode\n",
            "update-alternatives: using /usr/lib/jvm/java-17-openjdk-amd64/bin/jfr to provide /usr/bin/jfr (jfr) in auto mode\n",
            "update-alternatives: using /usr/lib/jvm/java-17-openjdk-amd64/bin/jimage to provide /usr/bin/jimage (jimage) in auto mode\n",
            "update-alternatives: using /usr/lib/jvm/java-17-openjdk-amd64/bin/jinfo to provide /usr/bin/jinfo (jinfo) in auto mode\n",
            "update-alternatives: using /usr/lib/jvm/java-17-openjdk-amd64/bin/jlink to provide /usr/bin/jlink (jlink) in auto mode\n",
            "update-alternatives: using /usr/lib/jvm/java-17-openjdk-amd64/bin/jmap to provide /usr/bin/jmap (jmap) in auto mode\n",
            "update-alternatives: using /usr/lib/jvm/java-17-openjdk-amd64/bin/jmod to provide /usr/bin/jmod (jmod) in auto mode\n",
            "update-alternatives: using /usr/lib/jvm/java-17-openjdk-amd64/bin/jps to provide /usr/bin/jps (jps) in auto mode\n",
            "update-alternatives: using /usr/lib/jvm/java-17-openjdk-amd64/bin/jrunscript to provide /usr/bin/jrunscript (jrunscript) in auto mode\n",
            "update-alternatives: using /usr/lib/jvm/java-17-openjdk-amd64/bin/jshell to provide /usr/bin/jshell (jshell) in auto mode\n",
            "update-alternatives: using /usr/lib/jvm/java-17-openjdk-amd64/bin/jstack to provide /usr/bin/jstack (jstack) in auto mode\n",
            "update-alternatives: using /usr/lib/jvm/java-17-openjdk-amd64/bin/jstat to provide /usr/bin/jstat (jstat) in auto mode\n",
            "update-alternatives: using /usr/lib/jvm/java-17-openjdk-amd64/bin/jstatd to provide /usr/bin/jstatd (jstatd) in auto mode\n",
            "update-alternatives: using /usr/lib/jvm/java-17-openjdk-amd64/bin/serialver to provide /usr/bin/serialver (serialver) in auto mode\n",
            "update-alternatives: using /usr/lib/jvm/java-17-openjdk-amd64/bin/jhsdb to provide /usr/bin/jhsdb (jhsdb) in auto mode\n",
            "Setting up openjdk-17-jdk:amd64 (17.0.15+6~us1-0ubuntu1~22.04) ...\n",
            "update-alternatives: using /usr/lib/jvm/java-17-openjdk-amd64/bin/jconsole to provide /usr/bin/jconsole (jconsole) in auto mode\n",
            "Processing triggers for fontconfig (2.13.1-4.2ubuntu5) ...\n",
            "Processing triggers for hicolor-icon-theme (0.17-2) ...\n",
            "Processing triggers for libc-bin (2.35-0ubuntu3.8) ...\n",
            "/sbin/ldconfig.real: /usr/local/lib/libumf.so.0 is not a symbolic link\n",
            "\n",
            "/sbin/ldconfig.real: /usr/local/lib/libtbbbind.so.3 is not a symbolic link\n",
            "\n",
            "/sbin/ldconfig.real: /usr/local/lib/libhwloc.so.15 is not a symbolic link\n",
            "\n",
            "/sbin/ldconfig.real: /usr/local/lib/libtbbbind_2_0.so.3 is not a symbolic link\n",
            "\n",
            "/sbin/ldconfig.real: /usr/local/lib/libtbbmalloc.so.2 is not a symbolic link\n",
            "\n",
            "/sbin/ldconfig.real: /usr/local/lib/libur_adapter_level_zero_v2.so.0 is not a symbolic link\n",
            "\n",
            "/sbin/ldconfig.real: /usr/local/lib/libtbbbind_2_5.so.3 is not a symbolic link\n",
            "\n",
            "/sbin/ldconfig.real: /usr/local/lib/libtbbmalloc_proxy.so.2 is not a symbolic link\n",
            "\n",
            "/sbin/ldconfig.real: /usr/local/lib/libur_loader.so.0 is not a symbolic link\n",
            "\n",
            "/sbin/ldconfig.real: /usr/local/lib/libtbb.so.12 is not a symbolic link\n",
            "\n",
            "/sbin/ldconfig.real: /usr/local/lib/libur_adapter_level_zero.so.0 is not a symbolic link\n",
            "\n",
            "/sbin/ldconfig.real: /usr/local/lib/libtcm_debug.so.1 is not a symbolic link\n",
            "\n",
            "/sbin/ldconfig.real: /usr/local/lib/libur_adapter_opencl.so.0 is not a symbolic link\n",
            "\n",
            "/sbin/ldconfig.real: /usr/local/lib/libtcm.so.1 is not a symbolic link\n",
            "\n",
            "Processing triggers for man-db (2.10.2-1) ...\n",
            "Processing triggers for mailcap (3.70+nmu1ubuntu1) ...\n"
          ]
        }
      ]
    },
    {
      "cell_type": "markdown",
      "source": [
        "### Online Voting System"
      ],
      "metadata": {
        "id": "ZZBHyd4D_ogi"
      }
    },
    {
      "cell_type": "code",
      "source": [
        "%%writefile Candidate.java\n",
        "public class Candidate {\n",
        "    String name;\n",
        "    int votes;\n",
        "\n",
        "    public Candidate(String name) {\n",
        "        this.name = name;\n",
        "        this.votes = 0;\n",
        "    }\n",
        "\n",
        "    public void vote() {\n",
        "        votes++;\n",
        "    }\n",
        "\n",
        "    public String getName() {\n",
        "        return name;\n",
        "    }\n",
        "\n",
        "    public int getVotes() {\n",
        "        return votes;\n",
        "    }\n",
        "}\n"
      ],
      "metadata": {
        "colab": {
          "base_uri": "https://localhost:8080/"
        },
        "id": "uO34Ep6Q9hpC",
        "outputId": "2c7ccd6a-7ea5-4f14-91f4-76f89b739297"
      },
      "execution_count": null,
      "outputs": [
        {
          "output_type": "stream",
          "name": "stdout",
          "text": [
            "Writing Candidate.java\n"
          ]
        }
      ]
    },
    {
      "cell_type": "code",
      "source": [
        "%%writefile Voter.java\n",
        "import java.util.HashSet;\n",
        "\n",
        "public class Voter {\n",
        "    private static HashSet<String> votedUsers = new HashSet<>();\n",
        "\n",
        "    public static boolean hasVoted(String voterId) {\n",
        "        return votedUsers.contains(voterId);\n",
        "    }\n",
        "\n",
        "    public static void markVoted(String voterId) {\n",
        "        votedUsers.add(voterId);\n",
        "    }\n",
        "}\n"
      ],
      "metadata": {
        "colab": {
          "base_uri": "https://localhost:8080/"
        },
        "id": "Dbd82Xkg9khP",
        "outputId": "de82b8e2-3e5d-4f2a-faba-4773ec729aae"
      },
      "execution_count": null,
      "outputs": [
        {
          "output_type": "stream",
          "name": "stdout",
          "text": [
            "Writing Voter.java\n"
          ]
        }
      ]
    },
    {
      "cell_type": "code",
      "source": [
        "%%writefile VotingSystem.java\n",
        "import java.util.*;\n",
        "\n",
        "public class VotingSystem {\n",
        "    static Scanner sc = new Scanner(System.in);\n",
        "    static List<Candidate> candidates = new ArrayList<>();\n",
        "\n",
        "    public static void main(String[] args) {\n",
        "        // Add some sample candidates\n",
        "        candidates.add(new Candidate(\"Alice\"));\n",
        "        candidates.add(new Candidate(\"Bob\"));\n",
        "        candidates.add(new Candidate(\"Charlie\"));\n",
        "\n",
        "        System.out.println(\"===== Welcome to the Online Voting System =====\");\n",
        "\n",
        "        while (true) {\n",
        "            System.out.println(\"\\n1. Vote\");\n",
        "            System.out.println(\"2. Show Results (Admin Only)\");\n",
        "            System.out.println(\"3. Exit\");\n",
        "            System.out.print(\"Choose an option: \");\n",
        "            int option = sc.nextInt();\n",
        "            sc.nextLine(); // Clear buffer\n",
        "\n",
        "            switch (option) {\n",
        "                case 1:\n",
        "                    vote();\n",
        "                    break;\n",
        "                case 2:\n",
        "                    adminLogin();\n",
        "                    break;\n",
        "                case 3:\n",
        "                    System.out.println(\"Thank you for using the voting system.\");\n",
        "                    return;\n",
        "                default:\n",
        "                    System.out.println(\"Invalid option.\");\n",
        "            }\n",
        "        }\n",
        "    }\n",
        "\n",
        "    static void vote() {\n",
        "        System.out.print(\"Enter your Voter ID: \");\n",
        "        String voterId = sc.nextLine();\n",
        "\n",
        "        if (Voter.hasVoted(voterId)) {\n",
        "            System.out.println(\"You have already voted. Multiple votes not allowed.\");\n",
        "            return;\n",
        "        }\n",
        "\n",
        "        System.out.println(\"\\n--- Candidates ---\");\n",
        "        for (int i = 0; i < candidates.size(); i++) {\n",
        "            System.out.println((i + 1) + \". \" + candidates.get(i).getName());\n",
        "        }\n",
        "\n",
        "        System.out.print(\"Enter the number of the candidate you want to vote for: \");\n",
        "        int choice = sc.nextInt();\n",
        "\n",
        "        if (choice < 1 || choice > candidates.size()) {\n",
        "            System.out.println(\"Invalid choice.\");\n",
        "            return;\n",
        "        }\n",
        "\n",
        "        candidates.get(choice - 1).vote();\n",
        "        Voter.markVoted(voterId);\n",
        "        System.out.println(\"Vote casted successfully!\");\n",
        "    }\n",
        "\n",
        "    static void adminLogin() {\n",
        "        System.out.print(\"Enter admin password: \");\n",
        "        String pass = sc.nextLine();\n",
        "        if (pass.equals(\"admin123\")) {\n",
        "            showResults();\n",
        "        } else {\n",
        "            System.out.println(\"Wrong password. Access denied.\");\n",
        "        }\n",
        "    }\n",
        "\n",
        "    static void showResults() {\n",
        "        System.out.println(\"\\n--- Voting Results ---\");\n",
        "        for (Candidate c : candidates) {\n",
        "            System.out.println(c.getName() + \": \" + c.getVotes() + \" votes\");\n",
        "        }\n",
        "    }\n",
        "}\n"
      ],
      "metadata": {
        "colab": {
          "base_uri": "https://localhost:8080/"
        },
        "id": "r0L5U0e09oUP",
        "outputId": "d3de144f-9a5a-407c-efd7-bb36d7068c44"
      },
      "execution_count": null,
      "outputs": [
        {
          "output_type": "stream",
          "name": "stdout",
          "text": [
            "Overwriting VotingSystem.java\n"
          ]
        }
      ]
    },
    {
      "cell_type": "code",
      "source": [
        "!javac VotingSystem.java"
      ],
      "metadata": {
        "id": "4IhxFAj7-NCl"
      },
      "execution_count": null,
      "outputs": []
    },
    {
      "cell_type": "code",
      "source": [
        "!java VotingSystem"
      ],
      "metadata": {
        "colab": {
          "base_uri": "https://localhost:8080/"
        },
        "id": "NCMeizJC-Qam",
        "outputId": "d7879327-6575-4dc2-9064-69e4d86ff769"
      },
      "execution_count": null,
      "outputs": [
        {
          "output_type": "stream",
          "name": "stdout",
          "text": [
            "===== Welcome to the Online Voting System =====\n",
            "\n",
            "1. Vote\n",
            "2. Show Results (Admin Only)\n",
            "3. Exit\n",
            "Choose an option: 3\n",
            "Thank you for using the voting system.\n"
          ]
        }
      ]
    },
    {
      "cell_type": "markdown",
      "source": [
        "### Word Scramble Game"
      ],
      "metadata": {
        "id": "d3gVHn2F_w7q"
      }
    },
    {
      "cell_type": "code",
      "source": [
        "%%writefile WordScrambleGame.java\n",
        "import java.util.*;\n",
        "\n",
        "public class WordScrambleGame {\n",
        "    static Scanner sc = new Scanner(System.in);\n",
        "    static String[] words = {\"computer\", \"java\", \"program\", \"keyboard\", \"internet\", \"function\", \"variable\", \"compile\", \"syntax\", \"object\"};\n",
        "    static int score = 0;\n",
        "\n",
        "    public static void main(String[] args)\n",
        "    {\n",
        "        System.out.println(\"===== 🧠 Word Scramble Game =====\");\n",
        "        boolean playAgain = true;\n",
        "\n",
        "        while (playAgain)\n",
        "        {\n",
        "            String word = getRandomWord();\n",
        "            String scrambled = scrambleWord(word);\n",
        "\n",
        "            System.out.println(\"\\nGuess the word: \" + scrambled);\n",
        "            System.out.print(\"Your guess: \");\n",
        "            String guess = sc.nextLine().trim().toLowerCase();\n",
        "\n",
        "            if (guess.equals(word))\n",
        "            {\n",
        "                System.out.println(\"✅ Correct!\");\n",
        "                score++;\n",
        "            } else\n",
        "            {\n",
        "                System.out.println(\"❌ Wrong! The correct word was: \" + word);\n",
        "            }\n",
        "\n",
        "            System.out.print(\"Do you want to play again? (yes/no): \");\n",
        "            String choice = sc.nextLine().trim().toLowerCase();\n",
        "            playAgain = choice.equals(\"yes\");\n",
        "        }\n",
        "\n",
        "        System.out.println(\"\\n🎉 Thanks for playing! Your total score: \" + score);\n",
        "    }\n",
        "\n",
        "    // Pick a random word from the list\n",
        "    static String getRandomWord()                          //for-each loop\n",
        "    {\n",
        "        Random rand = new Random();\n",
        "        return words[rand.nextInt(words.length)];\n",
        "    }\n",
        "\n",
        "    // Scramble the letters of a word\n",
        "    static String scrambleWord(String word)\n",
        "    {\n",
        "        List<Character> chars = new ArrayList<>();\n",
        "        for (char c : word.toCharArray())                  //for-each loop\n",
        "        {\n",
        "            chars.add(c);\n",
        "        }\n",
        "\n",
        "        Collections.shuffle(chars);\n",
        "        StringBuilder scrambled = new StringBuilder();\n",
        "        for (char c : chars)\n",
        "        {\n",
        "            scrambled.append(c);\n",
        "        }\n",
        "\n",
        "        return scrambled.toString();\n",
        "    }\n",
        "}\n"
      ],
      "metadata": {
        "colab": {
          "base_uri": "https://localhost:8080/"
        },
        "id": "P-2QlMVM_woh",
        "outputId": "c2dcc41d-91e4-4d3e-a3fb-fc54cd52f9d0"
      },
      "execution_count": null,
      "outputs": [
        {
          "output_type": "stream",
          "name": "stdout",
          "text": [
            "Overwriting WordScrambleGame.java\n"
          ]
        }
      ]
    },
    {
      "cell_type": "code",
      "source": [
        "!javac WordScrambleGame.java"
      ],
      "metadata": {
        "colab": {
          "base_uri": "https://localhost:8080/"
        },
        "id": "ynJom1fEABmr",
        "outputId": "79072e86-dfd0-4126-b550-9069b603208b"
      },
      "execution_count": null,
      "outputs": [
        {
          "output_type": "stream",
          "name": "stdout",
          "text": [
            "WordScrambleGame.java:10: error: incompatible types: int cannot be converted to boolean\n",
            "        boolean playAgain = 1;\n",
            "                            ^\n",
            "1 error\n"
          ]
        }
      ]
    },
    {
      "cell_type": "code",
      "source": [
        "!java WordScrambleGame"
      ],
      "metadata": {
        "colab": {
          "base_uri": "https://localhost:8080/"
        },
        "id": "c37NsKeTABjV",
        "outputId": "7927695d-22e5-4359-993a-2abe1e5fcca9"
      },
      "execution_count": null,
      "outputs": [
        {
          "output_type": "stream",
          "name": "stdout",
          "text": [
            "===== 🧠 Word Scramble Game =====\n",
            "\n",
            "Guess the word: orprmga\n",
            "Your guess: program\n",
            "✅ Correct!\n",
            "Do you want to play again? (yes/no): \n",
            "\n",
            "🎉 Thanks for playing! Your total score: 1\n"
          ]
        }
      ]
    },
    {
      "cell_type": "markdown",
      "source": [
        "### Flash card Quiz"
      ],
      "metadata": {
        "id": "dlwgy3qYHavK"
      }
    },
    {
      "cell_type": "code",
      "source": [
        "%%writefile FlashcardQuiz.java\n",
        "import java.util.*;\n",
        "\n",
        "class Flashcard {\n",
        "    private String question;\n",
        "    private String answer;\n",
        "\n",
        "    public Flashcard(String question, String answer) {\n",
        "        this.question = question;\n",
        "        this.answer = answer;\n",
        "    }\n",
        "\n",
        "    public String getQuestion() {\n",
        "        return question;\n",
        "    }\n",
        "\n",
        "    public String getAnswer() {\n",
        "        return answer;\n",
        "    }\n",
        "}\n",
        "\n",
        "public class FlashcardQuiz {\n",
        "    public static void main(String[] args) {\n",
        "        Scanner sc = new Scanner(System.in);\n",
        "\n",
        "        // Flashcard list (You can load this from a file later)\n",
        "        List<Flashcard> cards = new ArrayList<>();\n",
        "        cards.add(new Flashcard(\"What is the capital of France?\", \"Paris\"));\n",
        "        cards.add(new Flashcard(\"Who invented Java?\", \"James Gosling\"));\n",
        "        cards.add(new Flashcard(\"What is the square root of 49?\", \"7\"));\n",
        "        cards.add(new Flashcard(\"What is the chemical symbol for water?\", \"H2O\"));\n",
        "        cards.add(new Flashcard(\"How many continents are there?\", \"7\"));\n",
        "\n",
        "        int score = 0;\n",
        "\n",
        "        System.out.println(\"===== 🧠 Flashcard Quiz App =====\");\n",
        "        System.out.println(\"Type your answer and press Enter to see the correct one.\\n\");\n",
        "\n",
        "        for (Flashcard card : cards) {\n",
        "            System.out.println(\"❓ Question: \" + card.getQuestion());\n",
        "            System.out.print(\"Your answer: \");\n",
        "            String userAnswer = sc.nextLine().trim();\n",
        "\n",
        "            System.out.println(\"✅ Correct Answer: \" + card.getAnswer());\n",
        "\n",
        "            if (userAnswer.equalsIgnoreCase(card.getAnswer())) {\n",
        "                System.out.println(\"🎉 You got it right!\");\n",
        "                score++;\n",
        "            } else {\n",
        "                System.out.println(\"😢 Oops, not quite.\");\n",
        "            }\n",
        "\n",
        "            System.out.println(\"────────────────────────────\\n\");\n",
        "        }\n",
        "\n",
        "        System.out.println(\"🎯 Quiz complete! Your score: \" + score + \"/\" + cards.size());\n",
        "    }\n",
        "}\n"
      ],
      "metadata": {
        "colab": {
          "base_uri": "https://localhost:8080/"
        },
        "id": "6iH1S37VGyD1",
        "outputId": "3cefbf9a-5646-47e9-fa1b-d3eaf88409ae"
      },
      "execution_count": null,
      "outputs": [
        {
          "output_type": "stream",
          "name": "stdout",
          "text": [
            "Writing FlashcardQuiz.java\n"
          ]
        }
      ]
    },
    {
      "cell_type": "code",
      "source": [
        "!javac FlashcardQuiz.java"
      ],
      "metadata": {
        "id": "m8ZVDHa6G6jy"
      },
      "execution_count": null,
      "outputs": []
    },
    {
      "cell_type": "code",
      "source": [
        "!java FlashcardQuiz"
      ],
      "metadata": {
        "colab": {
          "base_uri": "https://localhost:8080/"
        },
        "collapsed": true,
        "id": "DvF4a7ibG6e_",
        "outputId": "c4159849-b60d-4ad1-f94d-4ce48eef84e3"
      },
      "execution_count": null,
      "outputs": [
        {
          "output_type": "stream",
          "name": "stdout",
          "text": [
            "===== 🧠 Flashcard Quiz App =====\n",
            "Type your answer and press Enter to see the correct one.\n",
            "\n",
            "❓ Question: What is the capital of France?\n",
            "Your answer: paris\n",
            "✅ Correct Answer: Paris\n",
            "🎉 You got it right!\n",
            "────────────────────────────\n",
            "\n",
            "❓ Question: Who invented Java?\n",
            "Your answer: bhj\n",
            "✅ Correct Answer: James Gosling\n",
            "😢 Oops, not quite.\n",
            "────────────────────────────\n",
            "\n",
            "❓ Question: What is the square root of 49?\n",
            "Your answer: 7\n",
            "✅ Correct Answer: 7\n",
            "🎉 You got it right!\n",
            "────────────────────────────\n",
            "\n",
            "❓ Question: What is the chemical symbol for water?\n",
            "Your answer: h2o\n",
            "✅ Correct Answer: H2O\n",
            "🎉 You got it right!\n",
            "────────────────────────────\n",
            "\n",
            "❓ Question: How many continents are there?\n",
            "Your answer: 7\n",
            "✅ Correct Answer: 7\n",
            "🎉 You got it right!\n",
            "────────────────────────────\n",
            "\n",
            "🎯 Quiz complete! Your score: 4/5\n"
          ]
        }
      ]
    },
    {
      "cell_type": "markdown",
      "source": [
        "### Hangman Game"
      ],
      "metadata": {
        "id": "_w6c-qKYIHX4"
      }
    },
    {
      "cell_type": "code",
      "source": [
        "%%writefile HangmanGame.java\n",
        "import java.util.*;\n",
        "\n",
        "public class HangmanGame {\n",
        "    static final String[] wordList = {\n",
        "        \"java\", \"object\", \"method\", \"class\", \"variable\",\n",
        "        \"function\", \"inheritance\", \"exception\", \"compile\", \"interface\"\n",
        "    };\n",
        "\n",
        "    public static void main(String[] args) {\n",
        "        Scanner sc = new Scanner(System.in);\n",
        "        String wordToGuess = getRandomWord();\n",
        "        char[] guessedWord = new char[wordToGuess.length()];\n",
        "        Arrays.fill(guessedWord, '_');\n",
        "\n",
        "        int maxTries = 6;\n",
        "        int wrongTries = 0;\n",
        "        Set<Character> guessedLetters = new HashSet<>();\n",
        "\n",
        "        System.out.println(\"===== 🎯 Welcome to Hangman! =====\");\n",
        "\n",
        "        while (wrongTries < maxTries && new String(guessedWord).contains(\"_\")) {\n",
        "            System.out.println(\"\\nWord: \" + String.valueOf(guessedWord));\n",
        "            System.out.println(\"Wrong attempts left: \" + (maxTries - wrongTries));\n",
        "            System.out.print(\"Enter a letter: \");\n",
        "            char guess = sc.nextLine().toLowerCase().charAt(0);\n",
        "\n",
        "            if (guessedLetters.contains(guess)) {\n",
        "                System.out.println(\"⚠️ You already guessed that letter.\");\n",
        "                continue;\n",
        "            }\n",
        "\n",
        "            guessedLetters.add(guess);\n",
        "\n",
        "            if (wordToGuess.contains(String.valueOf(guess))) {\n",
        "                for (int i = 0; i < wordToGuess.length(); i++) {\n",
        "                    if (wordToGuess.charAt(i) == guess) {\n",
        "                        guessedWord[i] = guess;\n",
        "                    }\n",
        "                }\n",
        "                System.out.println(\"✅ Good guess!\");\n",
        "            } else {\n",
        "                wrongTries++;\n",
        "                System.out.println(\"❌ Wrong guess!\");\n",
        "            }\n",
        "        }\n",
        "\n",
        "        if (new String(guessedWord).equals(wordToGuess)) {\n",
        "            System.out.println(\"\\n🎉 Congratulations! You guessed the word: \" + wordToGuess);\n",
        "        } else {\n",
        "            System.out.println(\"\\n💀 Game over! The word was: \" + wordToGuess);\n",
        "        }\n",
        "    }\n",
        "\n",
        "    static String getRandomWord() {\n",
        "        Random rand = new Random();\n",
        "        return wordList[rand.nextInt(wordList.length)];\n",
        "    }\n",
        "}\n"
      ],
      "metadata": {
        "colab": {
          "base_uri": "https://localhost:8080/"
        },
        "id": "_eYx_aihH-ZO",
        "outputId": "d5dd545b-763d-41ff-834c-6bb94d1695f9"
      },
      "execution_count": null,
      "outputs": [
        {
          "output_type": "stream",
          "name": "stdout",
          "text": [
            "Writing HangmanGame.java\n"
          ]
        }
      ]
    },
    {
      "cell_type": "code",
      "source": [
        "!javac HangmanGame.java"
      ],
      "metadata": {
        "id": "2W1wAnPLIPRg"
      },
      "execution_count": null,
      "outputs": []
    },
    {
      "cell_type": "code",
      "source": [
        "!java HangmanGame"
      ],
      "metadata": {
        "colab": {
          "base_uri": "https://localhost:8080/"
        },
        "collapsed": true,
        "id": "MhT-ja29IPNJ",
        "outputId": "04f2ab80-fcce-4aa7-8c6a-9951c50aa58f"
      },
      "execution_count": null,
      "outputs": [
        {
          "output_type": "stream",
          "name": "stdout",
          "text": [
            "===== 🎯 Welcome to Hangman! =====\n",
            "\n",
            "Word: ______\n",
            "Wrong attempts left: 6\n",
            "Enter a letter: o\n",
            "✅ Good guess!\n",
            "\n",
            "Word: o_____\n",
            "Wrong attempts left: 6\n",
            "Enter a letter: b\n",
            "✅ Good guess!\n",
            "\n",
            "Word: ob____\n",
            "Wrong attempts left: 6\n",
            "Enter a letter: j\n",
            "✅ Good guess!\n",
            "\n",
            "Word: obj___\n",
            "Wrong attempts left: 6\n",
            "Enter a letter: e\n",
            "✅ Good guess!\n",
            "\n",
            "Word: obje__\n",
            "Wrong attempts left: 6\n",
            "Enter a letter: c\n",
            "✅ Good guess!\n",
            "\n",
            "Word: objec_\n",
            "Wrong attempts left: 6\n",
            "Enter a letter: t\n",
            "✅ Good guess!\n",
            "\n",
            "🎉 Congratulations! You guessed the word: object\n"
          ]
        }
      ]
    },
    {
      "cell_type": "markdown",
      "source": [
        "### Quote Of The Day"
      ],
      "metadata": {
        "id": "pLHVYY8RLnXR"
      }
    },
    {
      "cell_type": "code",
      "source": [
        "%%writefile QuoteOfTheDay.java\n",
        "import java.util.Random;\n",
        "\n",
        "public class QuoteOfTheDay {\n",
        "    public static void main(String[] args) {\n",
        "        String[] quotes = {\n",
        "            \"Believe you can and you're halfway there.\",\n",
        "            \"Stay positive, work hard, make it happen.\",\n",
        "            \"Success is not final, failure is not fatal: It is the courage to continue that counts.\",\n",
        "            \"Don’t watch the clock; do what it does. Keep going.\",\n",
        "            \"You are stronger than you think.\"\n",
        "        };\n",
        "\n",
        "        Random rand = new Random();\n",
        "        int index = rand.nextInt(quotes.length);\n",
        "\n",
        "        System.out.println(\"💬 Quote of the Day:\");\n",
        "        System.out.println(\"\\\"\" + quotes[index] + \"\\\"\");\n",
        "    }\n",
        "}\n"
      ],
      "metadata": {
        "colab": {
          "base_uri": "https://localhost:8080/"
        },
        "id": "WJvaJavNLat1",
        "outputId": "46d65bb0-659d-4bf5-c7b5-c53f824141b2"
      },
      "execution_count": null,
      "outputs": [
        {
          "output_type": "stream",
          "name": "stdout",
          "text": [
            "Writing QuoteOfTheDay.java\n"
          ]
        }
      ]
    },
    {
      "cell_type": "code",
      "source": [
        "!javac QuoteOfTheDay.java"
      ],
      "metadata": {
        "id": "sk4IqCn4LdpC"
      },
      "execution_count": null,
      "outputs": []
    },
    {
      "cell_type": "code",
      "source": [
        "!java QuoteOfTheDay"
      ],
      "metadata": {
        "colab": {
          "base_uri": "https://localhost:8080/"
        },
        "id": "8ugMvlwRLdsa",
        "outputId": "07054703-e1f9-469c-f855-95f652eb386d"
      },
      "execution_count": null,
      "outputs": [
        {
          "output_type": "stream",
          "name": "stdout",
          "text": [
            "💬 Quote of the Day:\n",
            "\"Success is not final, failure is not fatal: It is the courage to continue that counts.\"\n"
          ]
        }
      ]
    }
  ]
}